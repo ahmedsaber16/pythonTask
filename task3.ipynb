{
 "cells": [
  {
   "cell_type": "markdown",
   "id": "ff38aad7",
   "metadata": {},
   "source": [
    "### 1-Write a Python program that takes two numbers as user input and performs addition on them."
   ]
  },
  {
   "cell_type": "code",
   "execution_count": 8,
   "id": "91696b79",
   "metadata": {},
   "outputs": [
    {
     "name": "stdout",
     "output_type": "stream",
     "text": [
      "enter first number 5\n",
      "enter second number 66\n",
      "5.0  +  66.0  =  71.0\n"
     ]
    }
   ],
   "source": [
    "num1 = float(input('enter first number ')) #take first number\n",
    "num2 = float(input('enter second number ')) #take sceond number\n",
    "add = num1 + num2  #additionOperation\n",
    "print(num1 , \" + \" , num2 , \" = \" ,add) #print addition operation"
   ]
  },
  {
   "cell_type": "markdown",
   "id": "360854ff",
   "metadata": {},
   "source": [
    "### 2-Write a Python program that takes an integer as input and checks if it is even or odd. Print \"Even\" if the number is divisible by 2, otherwise print \"Odd\"."
   ]
  },
  {
   "cell_type": "code",
   "execution_count": 22,
   "id": "ee4c35fe",
   "metadata": {
    "ExecuteTime": {
     "end_time": "2023-07-23T21:35:24.351946Z",
     "start_time": "2023-07-23T21:35:23.287212Z"
    }
   },
   "outputs": [
    {
     "name": "stdout",
     "output_type": "stream",
     "text": [
      "5\n",
      "OddNumber\n"
     ]
    }
   ],
   "source": [
    "num = int(input()) #take a number from user\n",
    "if num % 2 ==0:    #check  if the number is even or odd\n",
    "    print('EvenNumber') \n",
    "else:\n",
    "    print('OddNumber')"
   ]
  },
  {
   "cell_type": "markdown",
   "id": "6ea0354c",
   "metadata": {},
   "source": [
    "### 3-Write a Python program that prints all the even numbers from 1 to 20 using a for loop"
   ]
  },
  {
   "cell_type": "code",
   "execution_count": 24,
   "id": "df43b7f5",
   "metadata": {
    "ExecuteTime": {
     "end_time": "2023-07-23T21:36:51.373589Z",
     "start_time": "2023-07-23T21:36:51.365580Z"
    }
   },
   "outputs": [
    {
     "name": "stdout",
     "output_type": "stream",
     "text": [
      "2\n",
      "4\n",
      "6\n",
      "8\n",
      "10\n",
      "12\n",
      "14\n",
      "16\n",
      "18\n",
      "20\n"
     ]
    }
   ],
   "source": [
    "for i in range(1,21):\n",
    "    if i % 2 == 0:\n",
    "        print(i)"
   ]
  },
  {
   "cell_type": "markdown",
   "id": "2d66bab2",
   "metadata": {},
   "source": [
    "### 4-Write a Python function that takes a string as input and counts the number of vowels (a, e, i, o, u) in the string. The function should return the count"
   ]
  },
  {
   "cell_type": "code",
   "execution_count": 34,
   "id": "a37a84fd",
   "metadata": {
    "ExecuteTime": {
     "end_time": "2023-07-23T21:45:58.522044Z",
     "start_time": "2023-07-23T21:45:58.514370Z"
    }
   },
   "outputs": [
    {
     "name": "stdout",
     "output_type": "stream",
     "text": [
      "afsdkjfklncvowerfwiofhvlmA;lOI\n",
      "8\n"
     ]
    }
   ],
   "source": [
    "def countVowels(string):\n",
    "    count = 0  #initialize count to zero\n",
    "    for char in string:#loop in srting\n",
    "        if char.lower() in \"aeiou\":#check character is a vowel \n",
    "            count += 1    # condition true ? increment the count \n",
    "    return count\n",
    "count = countVowels(input())\n",
    "print(count)"
   ]
  },
  {
   "cell_type": "markdown",
   "id": "a9a0ea06",
   "metadata": {},
   "source": [
    "### 5-Write a Python program that creates a list of numbers from 1 to 10. Use a loop to iterate over the list and print each number of power 2."
   ]
  },
  {
   "cell_type": "code",
   "execution_count": 40,
   "id": "6fa658cf",
   "metadata": {
    "ExecuteTime": {
     "end_time": "2023-07-23T21:48:02.328880Z",
     "start_time": "2023-07-23T21:48:02.314313Z"
    }
   },
   "outputs": [
    {
     "name": "stdout",
     "output_type": "stream",
     "text": [
      "1\n",
      "4\n",
      "9\n",
      "16\n",
      "25\n",
      "36\n",
      "49\n",
      "64\n",
      "81\n",
      "100\n"
     ]
    }
   ],
   "source": [
    "numbers = list(range(1,11))#create a list included numbers\n",
    "for i in numbers: # loop in list \n",
    "    i *= i        # square num\n",
    "    print(i)\n",
    "    \n"
   ]
  },
  {
   "cell_type": "markdown",
   "id": "430c9df9",
   "metadata": {},
   "source": [
    "### 6-Write a Python program that calculates the average grade for a student based on their scores in different subjects. The program should include the following steps:\n",
    "\n",
    "#### 1-Create variables to store the student's name, subject names, and corresponding scores. Initialize the variables with sample data.\n",
    "\n",
    "#### 2-Prompt the user to enter the student's name and assign it to the name variable.\n",
    "\n",
    "#### 3-Use a loop to prompt the user to enter the subject names and corresponding scores. Store the subject names in a list and the scores in another list.\n",
    "\n",
    "#### 4-After collecting the scores, calculate the average grade by summing up all the scores and dividing by the total number of subjects.\n",
    "\n",
    "#### 5-Check if the average grade is above a 70, print a congratulatory message. Otherwise, print an encouragement message."
   ]
  },
  {
   "cell_type": "code",
   "execution_count": 73,
   "id": "e0254271",
   "metadata": {
    "ExecuteTime": {
     "end_time": "2023-07-15T16:16:17.066909Z",
     "start_time": "2023-07-15T16:16:07.636799Z"
    }
   },
   "outputs": [
    {
     "name": "stdout",
     "output_type": "stream",
     "text": [
      "enter a student name....ahmed\n",
      "How many subjects you have? 2\n",
      "Please enter the name of subject 1: statistics\n",
      "Please enter the score for statistics: 100\n",
      "Please enter the name of subject 2: math\n",
      "Please enter the score for math: 50\n",
      "Congratulations, Ahmed Saber! Your average grade is 75.00.\n"
     ]
    }
   ],
   "source": [
    "#initialize variables with sample data\n",
    "name = \"Ahmed Saber\"\n",
    "subjects = ['math' , 'statistics' , 'science']\n",
    "scores= [2.2 , 3 , 4] \n",
    "names = input('enter a student name....') #enter student name\n",
    "subjects = []\n",
    "scores = []\n",
    "num_subjects = int(input(\"How many subjects you have? \"))\n",
    "\n",
    "for i in range(num_subjects):\n",
    "    subject_name = input(\"Please enter the name of subject {}: \".format(i+1))\n",
    "    subject_score = float(input(\"Please enter the score for {}: \".format(subject_name)))\n",
    "    subjects.append(subject_name)\n",
    "    scores.append(subject_score)\n",
    "\n",
    "# Calculate the average grade\n",
    "average_grade = sum(scores) / len(scores)\n",
    "\n",
    "# Check if the average grade is above a 70 and print a message\n",
    "if average_grade > 70:\n",
    "    print(\"Congratulations, {}! Your average grade is {:.2f}.\".format(name, average_grade))\n",
    "else:\n",
    "    print(\"Keep up the good work, {}! Your average grade is {:.2f}.\".format(name, average_grade))\n"
   ]
  },
  {
   "cell_type": "markdown",
   "id": "ae9df360",
   "metadata": {},
   "source": [
    "### 7-Find Common Elements\n",
    "### Write a Python function that takes two lists as input and returns a new list containing the common elements present in both lists."
   ]
  },
  {
   "cell_type": "code",
   "execution_count": 48,
   "id": "d030c3c0",
   "metadata": {
    "ExecuteTime": {
     "end_time": "2023-07-23T22:08:16.794474Z",
     "start_time": "2023-07-23T22:08:16.775639Z"
    }
   },
   "outputs": [
    {
     "name": "stdout",
     "output_type": "stream",
     "text": [
      "enter element of list1  1 3 5 7 9\n",
      "enter element of list2 2 4 5 7 10\n",
      "[5, 7]\n"
     ]
    }
   ],
   "source": [
    "def commonList ():\n",
    "    list1 = input('enter element of list1 ').split()\n",
    "    list1 = [int(elem) for elem in list1] #convert string to a list of int\n",
    "    list2 = input('enter element of list2 ' ).split()\n",
    "    list2 = [int(elem) for elem in list2] #convert string to a list of int\n",
    "    commonElements = [] #empty list to store common elements\n",
    "    for elem in list1: #loop in list1\n",
    "        if elem in list2: #check if element in list1 exists in list2\n",
    "            commonElements.append(elem) #conditionTrue? add element in commonElements list\n",
    "    return commonElements\n",
    "commonElements = commonList()\n",
    "print (commonElements)\n"
   ]
  },
  {
   "cell_type": "markdown",
   "id": "9a2f34cb",
   "metadata": {},
   "source": [
    "### 8-Write a Python function that takes a list of numbers and an element to remove from the list. "
   ]
  },
  {
   "cell_type": "code",
   "execution_count": 56,
   "id": "3feaf264",
   "metadata": {
    "ExecuteTime": {
     "end_time": "2023-07-23T22:21:38.480436Z",
     "start_time": "2023-07-23T22:21:38.464574Z"
    }
   },
   "outputs": [
    {
     "name": "stdout",
     "output_type": "stream",
     "text": [
      "enter element of list... 1 2 3 4 5 6 7\n",
      "Enter the value to remove:... 5\n",
      "[1, 2, 3, 4, 6, 7]\n"
     ]
    }
   ],
   "source": [
    "def removeElement():\n",
    "    list1 = input('enter element of list... ').split() #enter list of numbers\n",
    "    list1 = [int(elem) for elem in list1]  #convert string to int\n",
    "    val = int(input(\"Enter the value to remove:... \")) # value that remove from list \n",
    "    for i in range(len(list1)): # Iterate over each element in the list\n",
    "        if list1[i] == val: # Check if the current element is equal to the value to remove\n",
    "            list1.pop(i)  # If the element is equal to the value remove it from the list\n",
    "            break\n",
    "\n",
    "    # Return the modified list\n",
    "    return list1\n",
    "newList = removeElement()\n",
    "print(newList)"
   ]
  },
  {
   "cell_type": "markdown",
   "id": "f1658f3b",
   "metadata": {
    "ExecuteTime": {
     "end_time": "2023-07-23T22:18:08.230185Z",
     "start_time": "2023-07-23T22:18:08.224220Z"
    }
   },
   "source": [
    "### 9-Given 4 numbers A, B, C and D. Print the last 2 digits from their Multiplication.\n",
    "### Example :\n",
    "### the Multiplication of 4 numbers is 5 * 7 * 2 * 4 = 280 so the answer will be the last 2 digits which are 80."
   ]
  },
  {
   "cell_type": "code",
   "execution_count": 61,
   "id": "e3acbe03",
   "metadata": {
    "ExecuteTime": {
     "end_time": "2023-07-23T22:26:11.183016Z",
     "start_time": "2023-07-23T22:26:03.981069Z"
    }
   },
   "outputs": [
    {
     "name": "stdout",
     "output_type": "stream",
     "text": [
      "enter a number...4 \n",
      "enter a number...8\n",
      "enter a number...9\n",
      "enter a number...7\n",
      "16\n"
     ]
    }
   ],
   "source": [
    "a = int(input('enter a number...')) #take numbers from user\n",
    "b = int(input('enter a number...'))\n",
    "c = int(input('enter a number...'))\n",
    "d = int(input('enter a number...'))\n",
    "mult = a * b * c * d\n",
    "dig = mult % 100\n",
    "print(dig)\n"
   ]
  },
  {
   "cell_type": "markdown",
   "id": "d7ab15bb",
   "metadata": {
    "ExecuteTime": {
     "end_time": "2023-07-23T22:26:14.833712Z",
     "start_time": "2023-07-23T22:26:14.819130Z"
    }
   },
   "source": [
    "### 10- Given a number X. Determine if the number is prime or not"
   ]
  },
  {
   "cell_type": "code",
   "execution_count": 71,
   "id": "59b27f0a",
   "metadata": {
    "ExecuteTime": {
     "end_time": "2023-07-23T22:35:25.933766Z",
     "start_time": "2023-07-23T22:35:24.168681Z"
    }
   },
   "outputs": [
    {
     "name": "stdout",
     "output_type": "stream",
     "text": [
      "enter a number...6\n",
      "6 is not prime\n"
     ]
    }
   ],
   "source": [
    "x = int(input(\"enter a number...\"))\n",
    "if x <= 1:\n",
    "    print( x , ' is not prime')\n",
    "else:\n",
    "    for i in range(2 , x):\n",
    "        if x % i == 0:\n",
    "            print(x , \"is not prime\")\n",
    "            break\n",
    "    else:\n",
    "        print(x ,'is a prime')\n"
   ]
  },
  {
   "cell_type": "markdown",
   "id": "e1d1dcf9",
   "metadata": {},
   "source": [
    "### 11- Given a number N and a list A of N numbers. Determine if the number X exists in array A or not and print its position (0-index)."
   ]
  },
  {
   "cell_type": "code",
   "execution_count": 83,
   "id": "2b002b0e",
   "metadata": {
    "ExecuteTime": {
     "end_time": "2023-07-23T22:53:41.474835Z",
     "start_time": "2023-07-23T22:53:41.458293Z"
    }
   },
   "outputs": [
    {
     "name": "stdout",
     "output_type": "stream",
     "text": [
      "The number 30 exists at position 2.\n"
     ]
    }
   ],
   "source": [
    "def find_number_position(N, A, X):\n",
    "    for i in range(N):\n",
    "        if A[i] == X:\n",
    "            return i\n",
    "    return -1\n",
    "N = 5\n",
    "A = [10, 20, 30, 40, 50]\n",
    "X = 30\n",
    "position = find_number_position(N, A, X)\n",
    "if position != -1:\n",
    "    print(f\"The number {X} exists at position {position}.\")\n",
    "else:\n",
    "    print(f\"The number {X} does not exist in the array.\")"
   ]
  },
  {
   "cell_type": "markdown",
   "id": "f2ec854b",
   "metadata": {},
   "source": [
    "### 12- Given a number N and a list A of N numbers. Determine if the array is lucky or not.\n",
    "\n",
    "#### Note: the array is lucky if the frequency (number of occurrence) of the minimum element is odd."
   ]
  },
  {
   "cell_type": "code",
   "execution_count": 84,
   "id": "0c4f7f4b",
   "metadata": {
    "ExecuteTime": {
     "end_time": "2023-07-23T23:02:02.490192Z",
     "start_time": "2023-07-23T23:02:02.476874Z"
    }
   },
   "outputs": [
    {
     "name": "stdout",
     "output_type": "stream",
     "text": [
      "Is the array lucky? True\n"
     ]
    }
   ],
   "source": [
    "def is_lucky_array(arr):\n",
    "    min_element = min(arr)\n",
    "    min_count = arr.count(min_element)\n",
    "    if min_count % 2 == 1:\n",
    "        return True\n",
    "    else:\n",
    "        return False\n",
    "N = 6\n",
    "A = [2, 3, 2, 4, 2, 5]\n",
    "is_lucky = is_lucky_array(A)\n",
    "print(\"Is the array lucky?\", is_lucky)"
   ]
  },
  {
   "cell_type": "markdown",
   "id": "e1ce1ae5",
   "metadata": {},
   "source": [
    "### 13-Given a number N and a list A of N numbers. Print the array after doing the following operations:\n",
    "\n",
    "#### Find minimum number in these numbers.\n",
    "#### Find maximum number in these numbers.\n",
    "##### Swap minimum number with maximum number."
   ]
  },
  {
   "cell_type": "code",
   "execution_count": 85,
   "id": "e0d6e639",
   "metadata": {
    "ExecuteTime": {
     "end_time": "2023-07-23T23:10:04.293733Z",
     "start_time": "2023-07-23T23:10:04.280256Z"
    }
   },
   "outputs": [
    {
     "name": "stdout",
     "output_type": "stream",
     "text": [
      "Array after swapping min and max: [5, 3, 2, 4, 2, 2]\n"
     ]
    }
   ],
   "source": [
    "def swap_min_max(arr):\n",
    "    min_element = min(arr)\n",
    "    max_element = max(arr) \n",
    "    min_index = arr.index(min_element)\n",
    "    max_index = arr.index(max_element) \n",
    "    arr[min_index], arr[max_index] = arr[max_index], arr[min_index] \n",
    "    return arr\n",
    "N = 6\n",
    "A = [2, 3, 2, 4, 2, 5]\n",
    "new_array = swap_min_max(A)\n",
    "print(\"Array after swapping min and max:\", new_array)"
   ]
  },
  {
   "cell_type": "markdown",
   "id": "9eb8e9c5",
   "metadata": {
    "ExecuteTime": {
     "end_time": "2023-07-23T23:10:06.436833Z",
     "start_time": "2023-07-23T23:10:06.422086Z"
    }
   },
   "source": [
    "### 14-Given a number N and an array A of N numbers. Print the lowest number and its position.\n",
    "\n",
    "### Note: if there are more than one answer print first one's position."
   ]
  },
  {
   "cell_type": "code",
   "execution_count": 86,
   "id": "018e01c8",
   "metadata": {
    "ExecuteTime": {
     "end_time": "2023-07-23T23:20:38.498527Z",
     "start_time": "2023-07-23T23:20:38.490451Z"
    }
   },
   "outputs": [
    {
     "name": "stdout",
     "output_type": "stream",
     "text": [
      "Lowest number: 2\n",
      "Position: 0\n"
     ]
    }
   ],
   "source": [
    "def print_lowest_number_and_position(arr):\n",
    "    lowest_number = min(arr)\n",
    "    lowest_number_index = arr.index(lowest_number)  \n",
    "    print(\"Lowest number:\", lowest_number)\n",
    "    print(\"Position:\", lowest_number_index)\n",
    "N = 6\n",
    "A = [2, 3, 2, 4, 2, 5]\n",
    "print_lowest_number_and_position(A)"
   ]
  },
  {
   "cell_type": "code",
   "execution_count": null,
   "id": "477554c7",
   "metadata": {
    "ExecuteTime": {
     "end_time": "2023-07-23T23:20:55.126958Z",
     "start_time": "2023-07-23T23:20:55.120450Z"
    }
   },
   "outputs": [],
   "source": []
  },
  {
   "cell_type": "code",
   "execution_count": null,
   "id": "27e032e4",
   "metadata": {
    "ExecuteTime": {
     "end_time": "2023-07-23T23:20:55.425024Z",
     "start_time": "2023-07-23T23:20:55.407711Z"
    }
   },
   "outputs": [],
   "source": []
  },
  {
   "cell_type": "markdown",
   "id": "f35d3427",
   "metadata": {
    "ExecuteTime": {
     "end_time": "2023-07-23T23:20:55.880128Z",
     "start_time": "2023-07-23T23:20:55.861804Z"
    }
   },
   "source": [
    "### 15-Given a number N and an array A of N numbers. Print the numbers after sorting them"
   ]
  },
  {
   "cell_type": "code",
   "execution_count": 92,
   "id": "a6e0edd4",
   "metadata": {
    "ExecuteTime": {
     "end_time": "2023-07-23T23:46:13.340484Z",
     "start_time": "2023-07-23T23:46:13.324468Z"
    }
   },
   "outputs": [
    {
     "name": "stdout",
     "output_type": "stream",
     "text": [
      "enter a number is size of list6 \n",
      "enter element of list... 1 5 4 7 8 9\n",
      "1\n",
      "4\n",
      "5\n",
      "7\n",
      "8\n",
      "9\n"
     ]
    }
   ],
   "source": [
    "def print_sorted_numbers(arr):\n",
    "    sorted_arr = sorted(arr)\n",
    "    for num in sorted_arr:\n",
    "        print(num)\n",
    "N = int(input('enter a number is size of list')) #size of list\n",
    "A = input('enter element of list... ').split() #enter list of numbers\n",
    "A = [int(elem) for elem in A]  #convert string to int\n",
    "print_sorted_numbers(A)"
   ]
  },
  {
   "cell_type": "code",
   "execution_count": null,
   "id": "38100d74",
   "metadata": {
    "ExecuteTime": {
     "end_time": "2023-07-23T23:46:14.343960Z",
     "start_time": "2023-07-23T23:46:14.325805Z"
    }
   },
   "outputs": [],
   "source": []
  },
  {
   "cell_type": "markdown",
   "id": "a172f354",
   "metadata": {
    "ExecuteTime": {
     "end_time": "2023-07-23T23:46:15.127981Z",
     "start_time": "2023-07-23T23:46:15.108766Z"
    }
   },
   "source": [
    "### 16- Write a Python program to remove spaces from a given string"
   ]
  },
  {
   "cell_type": "code",
   "execution_count": 89,
   "id": "36d3569d",
   "metadata": {
    "ExecuteTime": {
     "end_time": "2023-07-23T23:50:06.443640Z",
     "start_time": "2023-07-23T23:50:01.592919Z"
    }
   },
   "outputs": [
    {
     "name": "stdout",
     "output_type": "stream",
     "text": [
      "enter a sentenceahmed saber elhady\n",
      "ahmedsaberelhady\n"
     ]
    }
   ],
   "source": [
    "def remove_spaces(string):\n",
    "    new_string = string.replace(\" \", \"\")\n",
    "    return new_string\n",
    "s = input('enter a sentence')\n",
    "result = remove_spaces(s)\n",
    "print(result)"
   ]
  },
  {
   "cell_type": "markdown",
   "id": "a5470d49",
   "metadata": {},
   "source": [
    "### 17-write a Python program to swap first and last element of any list."
   ]
  },
  {
   "cell_type": "code",
   "execution_count": 93,
   "id": "9d73887b",
   "metadata": {
    "ExecuteTime": {
     "end_time": "2023-07-23T23:50:59.283429Z",
     "start_time": "2023-07-23T23:50:59.272096Z"
    }
   },
   "outputs": [
    {
     "name": "stdout",
     "output_type": "stream",
     "text": [
      "enter element of list...  1 5 6 4 8 2\n",
      "[2, 5, 6, 4, 8, 1]\n"
     ]
    }
   ],
   "source": [
    "def swapFirstLast(lst):\n",
    "    if len(lst) >= 2:\n",
    "        lst[0], lst[-1] = lst[-1], lst[0]\n",
    "    return lst\n",
    "myList = A = input('enter element of list... ').split() #enter list of numbers\n",
    "myList = [int(elem) for elem in myList]  #convert string to int\n",
    "result = swapFirstLast(myList)\n",
    "print(result)"
   ]
  },
  {
   "cell_type": "code",
   "execution_count": null,
   "id": "faa49913",
   "metadata": {
    "ExecuteTime": {
     "end_time": "2023-07-23T23:51:31.917164Z",
     "start_time": "2023-07-23T23:51:31.900550Z"
    }
   },
   "outputs": [],
   "source": []
  },
  {
   "cell_type": "markdown",
   "id": "1ae6cf8e",
   "metadata": {
    "ExecuteTime": {
     "end_time": "2023-07-23T23:51:34.302184Z",
     "start_time": "2023-07-23T23:51:34.285461Z"
    }
   },
   "source": [
    "### 18- Write a Python program to add member(s) to a set."
   ]
  },
  {
   "cell_type": "code",
   "execution_count": null,
   "id": "3e905e5b",
   "metadata": {},
   "outputs": [],
   "source": []
  },
  {
   "cell_type": "code",
   "execution_count": null,
   "id": "341c3d16",
   "metadata": {},
   "outputs": [],
   "source": []
  },
  {
   "cell_type": "markdown",
   "id": "db811fec",
   "metadata": {},
   "source": [
    "### 19-Write a Python program to remove an item from a set if it is present in the set"
   ]
  },
  {
   "cell_type": "code",
   "execution_count": null,
   "id": "daa40ca6",
   "metadata": {},
   "outputs": [],
   "source": []
  },
  {
   "cell_type": "markdown",
   "id": "240c9bde",
   "metadata": {},
   "source": [
    "### 20-Write a Python program to get the maximum and minimum values of a dictionary values"
   ]
  },
  {
   "cell_type": "code",
   "execution_count": 82,
   "id": "4b767f24",
   "metadata": {
    "ExecuteTime": {
     "end_time": "2023-07-23T23:56:35.117528Z",
     "start_time": "2023-07-23T23:56:35.105969Z"
    }
   },
   "outputs": [
    {
     "name": "stdout",
     "output_type": "stream",
     "text": [
      "maximum value... 484\n",
      "minmum value... 45\n"
     ]
    }
   ],
   "source": [
    "def getMaxMin(dictionary):\n",
    "    val = dictionary.values()\n",
    "    maxVal = max(val)\n",
    "    minVal = min(val)\n",
    "    return maxVal , minVal\n",
    "dic = {'num1': 52 , 'num2' : 45 , 'num3': 484}\n",
    "maxVal , minVal = getMaxMin(dic)\n",
    "print('maximum value...' , maxVal)\n",
    "print('minmum value...' , minVal)"
   ]
  },
  {
   "cell_type": "code",
   "execution_count": null,
   "id": "24423e73",
   "metadata": {
    "ExecuteTime": {
     "end_time": "2023-07-23T23:56:35.677287Z",
     "start_time": "2023-07-23T23:56:35.661315Z"
    }
   },
   "outputs": [],
   "source": []
  },
  {
   "cell_type": "code",
   "execution_count": null,
   "id": "7ae7d263",
   "metadata": {
    "ExecuteTime": {
     "end_time": "2023-07-23T23:56:37.430631Z",
     "start_time": "2023-07-23T23:56:37.425625Z"
    }
   },
   "outputs": [],
   "source": []
  },
  {
   "cell_type": "markdown",
   "id": "f1d3a246",
   "metadata": {},
   "source": [
    "### 21-Write a Python program to drop empty items from a given dictionary.Original Dictionary:{'c1': 'Red', 'c2': 'Green', 'c3': None}New Dictionary after dropping empty items:{'c1': 'Red', 'c2': 'Green'}"
   ]
  },
  {
   "cell_type": "code",
   "execution_count": 78,
   "id": "7c2a5807",
   "metadata": {},
   "outputs": [
    {
     "name": "stdout",
     "output_type": "stream",
     "text": [
      "Original Dictionary.. {'c1': 'Red', 'c2': 'Green', 'c3': None}\n",
      "New Dictionary.. {'c1': 'Red', 'c2': 'Green'}\n"
     ]
    }
   ],
   "source": [
    "def dropEmptyItems(dictionary):\n",
    "    #return key and value if value is not empty\n",
    "    return {key: value for key, value in dictionary.items() if value is not None} \n",
    "original_dictionary = {'c1': 'Red', 'c2': 'Green', 'c3': None}\n",
    "new_dictionary = dropEmptyItems(original_dictionary)\n",
    "print(\"Original Dictionary..\", original_dictionary)\n",
    "print(\"New Dictionary..\", new_dictionary)\n",
    "    \n",
    "    "
   ]
  }
 ],
 "metadata": {
  "kernelspec": {
   "display_name": "Python 3 (ipykernel)",
   "language": "python",
   "name": "python3"
  },
  "language_info": {
   "codemirror_mode": {
    "name": "ipython",
    "version": 3
   },
   "file_extension": ".py",
   "mimetype": "text/x-python",
   "name": "python",
   "nbconvert_exporter": "python",
   "pygments_lexer": "ipython3",
   "version": "3.9.12"
  }
 },
 "nbformat": 4,
 "nbformat_minor": 5
}
