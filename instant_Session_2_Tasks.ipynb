{
 "cells": [
  {
   "cell_type": "markdown",
   "metadata": {
    "id": "N8blBjfzqU6I"
   },
   "source": [
    "# Session 2 Tasks"
   ]
  },
  {
   "cell_type": "markdown",
   "metadata": {
    "id": "10XjML4cqZa4"
   },
   "source": [
    "1. Create 3 variables to store street, city and country, now create address variable to\n",
    "store entire address. Use two ways of creating this variable, one using + operator and the other using f-string.\n",
    "Now Print the address in such a way that the street, city and country prints in a separate line\n",
    "2. Create a variable to store the string \"Earth revolves around the sun\"\n",
    "    1. Print \"revolves\" using slice operator\n",
    "    2. Print \"sun\" using negative index\n",
    "3. Create two variables to store how many fruits and vegetables you eat in a day.\n",
    "Now Print \"I eat x veggies and y fruits daily\" where x and y presents vegetables and fruits that you eat everyday. Use python f string for this.\n",
    "4. I have a string variable called s='maine 200 banana khaye'. This of course is a\n",
    "wrong statement, the correct statement is 'maine 10 samosa khaye'.\n",
    "Replace incorrect words in original strong with new ones and print the new string.\n",
    "Also try to do this in one line.\n"
   ]
  },
  {
   "cell_type": "code",
   "execution_count": 3,
   "metadata": {
    "id": "P4EUN6nuqUPf"
   },
   "outputs": [
    {
     "name": "stdout",
     "output_type": "stream",
     "text": [
      "tahrirSt\n",
      "giza\n",
      "egypt\n",
      "I live in tahrirSt giza egypt\n"
     ]
    }
   ],
   "source": [
    "# 1.1\n",
    "street = \"tahrirSt\"\n",
    "city = \"giza\"\n",
    "country = \"egypt\"\n",
    "address1 = street + \"\\n\" + city + \"\\n\" + country\n",
    "address2 = f\"I live in {street} {city} {country}\"\n",
    "print(address1)\n",
    "print(address2)"
   ]
  },
  {
   "cell_type": "code",
   "execution_count": 6,
   "metadata": {},
   "outputs": [
    {
     "name": "stdout",
     "output_type": "stream",
     "text": [
      "revolves\n",
      "sun\n"
     ]
    }
   ],
   "source": [
    "# 1.2\n",
    "s = \"Earth revolves around the sun\"\n",
    "print(s[6:14])\n",
    "print(s[-3:])"
   ]
  },
  {
   "cell_type": "code",
   "execution_count": 8,
   "metadata": {},
   "outputs": [
    {
     "name": "stdout",
     "output_type": "stream",
     "text": [
      "how many fruits u eat?5k\n",
      "how many vegetables u eat?5k\n",
      "I eat 5k veggies and 5k fruits daily\n"
     ]
    }
   ],
   "source": [
    "# 1.3\n",
    "x = input('how many fruits u eat?')\n",
    "y = input('how many vegetables u eat?')\n",
    "print(f\"I eat {x} veggies and {y} fruits daily\")"
   ]
  },
  {
   "cell_type": "code",
   "execution_count": 7,
   "metadata": {},
   "outputs": [
    {
     "name": "stdout",
     "output_type": "stream",
     "text": [
      "maine 10 samosa khaye\n"
     ]
    }
   ],
   "source": [
    "# 1.4\n",
    "s = 'maine 200 banana khaye'\n",
    "s = s.replace('200', '10').replace('banana', 'samosa')\n",
    "print(s)"
   ]
  },
  {
   "cell_type": "markdown",
   "metadata": {
    "id": "B98K3rbAqz7e"
   },
   "source": [
    "1. Let us say your expense for every month are listed below.\n",
    "\t  1. January -  2200\n",
    "    2. February - 2350\n",
    "    3. March - 2600\n",
    "    4. April - 2130\n",
    "    5. May - 2190\n",
    "\n",
    "Create a list to store these monthly expenses and using that find out,\n",
    "\n",
    "    1. In Feb, how many dollars you spent extra compare to January?\n",
    "    2. Find out your total expense in first quarter (first three months) of the year.\n",
    "    3. Find out if you spent exactly 2000 dollars in any month\n",
    "    4. June month just finished and your expense is 1980 dollar. Add this item to our monthly expense list\n",
    "    5. You returned an item that you bought in a month of April and\n",
    "    got a refund of 200$. Make a correction to your monthly expense list\n",
    "    based on this\n",
    "\n",
    "2. You have a list of your favourite marvel super heros.\n",
    "```\n",
    "heros=['spider man','thor','hulk','iron man','captain america']\n",
    "```\n",
    "\n",
    "Using this find out,\n",
    "\n",
    "    1. Length of the list\n",
    "    2. Add 'black panther' at the end of this list\n",
    "    3. You realize that you need to add 'black panther' after 'hulk',\n",
    "       so remove it from the list first and then add it after 'hulk'\n",
    "    4. Now you don't like thor and hulk because they get angry easily :)\n",
    "       So you want to remove thor and hulk from list and replace them with doctor strange (because he is cool).\n",
    "       Do that with one line of code.\n",
    "    5. Sort the heros list in alphabetical order (Hint. Use dir() functions to list down all functions available in list)\n",
    "\n",
    "\n",
    "\n",
    "\n"
   ]
  },
  {
   "cell_type": "code",
   "execution_count": 12,
   "metadata": {
    "id": "vvus0ZOlrzJS"
   },
   "outputs": [
    {
     "name": "stdout",
     "output_type": "stream",
     "text": [
      "150\n",
      "7150\n",
      "We did not spend exactly 2000 dollars\n",
      "[2200, 2350, 2600, 2130, 2190, 1980]\n",
      "[2200, 2350, 2600, 1930, 2190, 1980]\n"
     ]
    }
   ],
   "source": [
    "expenses = [2200, 2350, 2600, 2130, 2190]\n",
    "# 2.1.1\n",
    "extraSpent = expenses[1] - expenses[0]\n",
    "print(extraSpent)\n",
    "# 2.1.2\n",
    "totalSpent = expenses[0] + expenses[1] +expenses[2]\n",
    "print(totalSpent)\n",
    "# 2.1.3\n",
    "i = 0\n",
    "while i < len(expenses):\n",
    "    if expenses[i] == 2000:\n",
    "        print(\"We spent exactly 2000 dollars\")\n",
    "        break\n",
    "    i += 1\n",
    "else:\n",
    "    print(\"We did not spend exactly 2000 dollars\")\n",
    "# 2.1.4\n",
    "expenses.append(1980)\n",
    "print(expenses)\n",
    "# 2.1.5\n",
    "expenses[3] -= 200\n",
    "print(expenses) "
   ]
  },
  {
   "cell_type": "code",
   "execution_count": 20,
   "metadata": {},
   "outputs": [
    {
     "name": "stdout",
     "output_type": "stream",
     "text": [
      "5\n",
      "['spider man', 'thor', 'hulk', 'iron man', 'captain america', 'black panther']\n",
      "['spider man', 'thor', 'hulk', 'black panther', 'captain america']\n",
      "['spider man', 'doctor strange', 'iron man', 'captain america']\n",
      "['captain america', 'doctor strange', 'iron man', 'spider man']\n"
     ]
    }
   ],
   "source": [
    "heros=['spider man','thor','hulk','iron man','captain america']\n",
    "# 2.2.1\n",
    "print(len(heros))\n",
    "# 2.2.2\n",
    "heros.append('black panther')\n",
    "print(heros)\n",
    "# 2.2.3\n",
    "heros.remove('black panther')\n",
    "new_heros = heros[:3] + heros[4:]\n",
    "new_heros.insert(3, 'black panther')\n",
    "print(new_heros)\n",
    "# 2.2.4\n",
    "heros[1:3] = ['doctor strange']\n",
    "print(heros)\n",
    "# 2.2.5\n",
    "heros.sort()\n",
    "print(heros)  "
   ]
  },
  {
   "cell_type": "markdown",
   "metadata": {
    "id": "ojrpvhohrzgJ"
   },
   "source": [
    "Write a program that prints following shape\n",
    "\n",
    "```\n",
    "    *\n",
    "   ***\n",
    "  *****\n",
    " *******\n",
    "*********\n",
    " *******\n",
    "  *****\n",
    "   ***\n",
    "    *\n",
    "```\n",
    "\n"
   ]
  },
  {
   "cell_type": "code",
   "execution_count": null,
   "metadata": {
    "id": "Ad-hutpdsCJ6"
   },
   "outputs": [],
   "source": [
    "height = 9\n",
    "row = 0\n",
    "num_stars = 1\n",
    "while row < height:\n",
    "    num_spaces = (height - num_stars) // 2\n",
    "    spaces = 0\n",
    "    while spaces < num_spaces:\n",
    "        print(' ', end='')\n",
    "        spaces += 1\n",
    "    stars = 0\n",
    "    while stars < num_stars:\n",
    "        print('*', end='')\n",
    "        stars += 1\n",
    "    print()\n",
    "    row += 1\n",
    "    if row < height // 2 + 1:\n",
    "        num_stars += 2\n",
    "    else:\n",
    "        num_stars -= 2"
   ]
  }
 ],
 "metadata": {
  "colab": {
   "provenance": []
  },
  "kernelspec": {
   "display_name": "Python 3 (ipykernel)",
   "language": "python",
   "name": "python3"
  },
  "language_info": {
   "codemirror_mode": {
    "name": "ipython",
    "version": 3
   },
   "file_extension": ".py",
   "mimetype": "text/x-python",
   "name": "python",
   "nbconvert_exporter": "python",
   "pygments_lexer": "ipython3",
   "version": "3.9.12"
  }
 },
 "nbformat": 4,
 "nbformat_minor": 1
}
